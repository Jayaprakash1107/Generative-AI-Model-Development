{
 "cells": [
  {
   "metadata": {
    "ExecuteTime": {
     "end_time": "2025-09-18T05:06:51.915314Z",
     "start_time": "2025-09-18T05:06:51.907263Z"
    }
   },
   "cell_type": "code",
   "source": [
    "import json, os, subprocess, time, uuid, textwrap\n",
    "from dataclasses import dataclass, asdict\n",
    "from typing import List, Dict\n",
    "\n",
    "RESULTS_DIR = \"a3_outputs\"\n",
    "os.makedirs(RESULTS_DIR, exist_ok=True)\n",
    "\n",
    "def ollama_run(model: str, prompt: str, options: Dict=None, timeout: int = 120) -> str:\n",
    "    \"\"\"Run a prompt through a local Ollama model via subprocess and return the text.\n",
    "\n",
    "    Requires Ollama to be installed and available on PATH.\n",
    "\n",
    "    \"\"\"\n",
    "    cmd = [\"ollama\", \"run\", model]\n",
    "    if options:\n",
    "        # Ollama CLI supports options via the JSON API; here we keep CLI simple.\n",
    "        # For advanced options, consider using `ollama generate -m model -p prompt --options '{...}'` pattern.\n",
    "        pass\n",
    "    proc = subprocess.run(cmd, input=prompt.encode(\"utf-8\"), stdout=subprocess.PIPE, stderr=subprocess.PIPE, timeout=timeout)\n",
    "    if proc.returncode != 0:\n",
    "        raise RuntimeError(f\"Ollama error: {proc.stderr.decode('utf-8', errors='ignore')}\")\n",
    "    return proc.stdout.decode(\"utf-8\", errors=\"ignore\")\n",
    "\n",
    "@dataclass\n",
    "class Trial:\n",
    "    step: str                 # basic / structured / fewshot / cot\n",
    "    task_id: str              # arbitrary id of the task/question\n",
    "    prompt: str\n",
    "    response: str\n",
    "    meta: Dict\n",
    "\n",
    "def save_trials(trials: List[Trial], path: str):\n",
    "    with open(path, \"w\", encoding=\"utf-8\") as f:\n",
    "        json.dump([asdict(t) for t in trials], f, ensure_ascii=False, indent=2)\n",
    "    print(f\"Saved {len(trials)} trials to {path}\")"
   ],
   "id": "43842b5b6f93d1ee",
   "outputs": [],
   "execution_count": 3
  },
  {
   "metadata": {},
   "cell_type": "markdown",
   "source": "1) Context Document & Tasks",
   "id": "a4f93e7ba713e100"
  },
  {
   "metadata": {
    "ExecuteTime": {
     "end_time": "2025-09-18T05:08:20.707849Z",
     "start_time": "2025-09-18T05:08:20.703218Z"
    }
   },
   "cell_type": "code",
   "source": [
    "CONTEXT = \"\"\"\n",
    "Acme Coffee is launching a mobile ordering app. Users can customize drinks, save favorites, and schedule pickup.\n",
    "New features include: seasonal drinks, reward points, referral codes, and a barista recommendation assistant.\n",
    "The team tracks weekly KPIs: daily active users (DAU), average order value (AOV), and retention D7.\n",
    "\"\"\".strip()\n",
    "\n",
    "TASKS = [\n",
    "    {\"id\": \"t1\", \"question\": \"Summarize the key features of the Acme Coffee app.\"},\n",
    "    {\"id\": \"t2\", \"question\": \"List three KPIs and explain why they matter.\"},\n",
    "    {\"id\": \"t3\", \"question\": \"Propose two experiments to increase AOV.\"},\n",
    "    {\"id\": \"t4\", \"question\": \"Write a short FAQ answer: 'How do I redeem reward points?'\"}\n",
    "]\n",
    "\n",
    "print(CONTEXT)\n",
    "print(\"\\nTasks:\")\n",
    "for t in TASKS:\n",
    "    print(\"-\", t[\"id\"] + \":\", t[\"question\"])\n"
   ],
   "id": "1c01d8348eba4afc",
   "outputs": [
    {
     "name": "stdout",
     "output_type": "stream",
     "text": [
      "Acme Coffee is launching a mobile ordering app. Users can customize drinks, save favorites, and schedule pickup.\n",
      "New features include: seasonal drinks, reward points, referral codes, and a barista recommendation assistant.\n",
      "The team tracks weekly KPIs: daily active users (DAU), average order value (AOV), and retention D7.\n",
      "\n",
      "Tasks:\n",
      "- t1: Summarize the key features of the Acme Coffee app.\n",
      "- t2: List three KPIs and explain why they matter.\n",
      "- t3: Propose two experiments to increase AOV.\n",
      "- t4: Write a short FAQ answer: 'How do I redeem reward points?'\n"
     ]
    }
   ],
   "execution_count": 4
  },
  {
   "metadata": {},
   "cell_type": "markdown",
   "source": [
    "Step 1: Basic Prompt\n",
    "- Ask direct, simple questions grounded in the context document.\n",
    "- Log correctness, completeness, and clarity for later comparison."
   ],
   "id": "bb14473660891204"
  },
  {
   "metadata": {
    "ExecuteTime": {
     "end_time": "2025-09-18T05:09:16.339718Z",
     "start_time": "2025-09-18T05:09:16.317883Z"
    }
   },
   "cell_type": "code",
   "source": [
    "MODEL = \"llama3.2:1b\"\n",
    "\n",
    "basic_trials = []\n",
    "for task in TASKS:\n",
    "    prompt = f\"\"\"\n",
    "You are a helpful assistant.\n",
    "\n",
    "Context:\n",
    "{CONTEXT}\n",
    "\n",
    "Question:\n",
    "{task['question']}\n",
    "\"\"\".strip()\n",
    "    try:\n",
    "        resp = ollama_run(MODEL, prompt)\n",
    "    except Exception as e:\n",
    "        resp = f\"[ERROR running model locally] {e}\"\n",
    "    basic_trials.append(Trial(step=\"basic\", task_id=task[\"id\"], prompt=prompt, response=resp, meta={}))\n",
    "\n",
    "save_trials(basic_trials, os.path.join(RESULTS_DIR, \"step1_basic.json\"))"
   ],
   "id": "a87088da9ed168ef",
   "outputs": [
    {
     "name": "stdout",
     "output_type": "stream",
     "text": [
      "Saved 4 trials to a3_outputs\\step1_basic.json\n"
     ]
    }
   ],
   "execution_count": 5
  },
  {
   "metadata": {},
   "cell_type": "markdown",
   "source": [
    "4) Step 3 — Few‑shot Prompting\n",
    "- Provide 1–3 short examples to steer the style & content.\n",
    "- Compare results with Steps 1–2."
   ],
   "id": "9a2b2f82d98a0e3b"
  },
  {
   "metadata": {
    "ExecuteTime": {
     "end_time": "2025-09-18T05:10:55.814261Z",
     "start_time": "2025-09-18T05:10:55.798601Z"
    }
   },
   "cell_type": "code",
   "source": [
    "FEW_SHOT_EXAMPLES = [\n",
    "    {\n",
    "        \"q\": \"List two seasonal drinks in the app and describe them briefly.\",\n",
    "        \"a\": \"- Pumpkin Spice Latte: spiced espresso with milk\\n- Peppermint Mocha: minty chocolate espresso\"\n",
    "    },\n",
    "    {\n",
    "        \"q\": \"Explain what DAU means.\",\n",
    "        \"a\": \"Daily Active Users; the number of unique users opening the app on a given day.\"\n",
    "    }\n",
    "]\n",
    "\n",
    "def render_fewshot_block(examples):\n",
    "    parts = [\"You are a helpful assistant. Here are some QA examples:\"]\n",
    "    for ex in examples:\n",
    "        parts.append(f\"Q: {ex['q']}\\nA: {ex['a']}\")\n",
    "    return \"\\n\\n\".join(parts)\n",
    "\n",
    "fewshot_prefix = render_fewshot_block(FEW_SHOT_EXAMPLES)\n",
    "\n",
    "fewshot_trials = []\n",
    "for task in TASKS:\n",
    "    prompt = f\"\"\"\n",
    "{fewshot_prefix}\n",
    "\n",
    "Now answer the new question using the context below.\n",
    "\n",
    "Context:\n",
    "{CONTEXT}\n",
    "\n",
    "Question:\n",
    "{task['question']}\n",
    "\"\"\".strip()\n",
    "    try:\n",
    "        resp = ollama_run(MODEL, prompt)\n",
    "    except Exception as e:\n",
    "        resp = f\"[ERROR running model locally] {e}\"\n",
    "    fewshot_trials.append(Trial(step=\"fewshot\", task_id=task[\"id\"], prompt=prompt, response=resp, meta={\"k\": len(FEW_SHOT_EXAMPLES)}))\n",
    "\n",
    "save_trials(fewshot_trials, os.path.join(RESULTS_DIR, \"step3_fewshot.json\"))\n"
   ],
   "id": "b4280e8ae11373f4",
   "outputs": [
    {
     "name": "stdout",
     "output_type": "stream",
     "text": [
      "Saved 4 trials to a3_outputs\\step3_fewshot.json\n"
     ]
    }
   ],
   "execution_count": 6
  },
  {
   "metadata": {},
   "cell_type": "markdown",
   "source": [
    "5) Step 4 — Chain‑of‑Thought (CoT) Prompting\n",
    "Encourage explicit reasoning (e.g., \"Let's think step by step.\").\n",
    "Compare reasoning quality, correctness, and verbosity with prior steps."
   ],
   "id": "210d11fe5c7bc860"
  },
  {
   "metadata": {
    "ExecuteTime": {
     "end_time": "2025-09-18T05:17:47.039059Z",
     "start_time": "2025-09-18T05:17:47.025271Z"
    }
   },
   "cell_type": "code",
   "source": [
    "cot_trials = []\n",
    "for task in TASKS:\n",
    "    prompt = f\"\"\"\n",
    "You are a helpful assistant. Let's think step by step and show reasoning before the final answer.\n",
    "Use the context to avoid hallucinations. Provide a short final answer at the end under 'Final Answer: ...'.\n",
    "\n",
    "Context:\n",
    "{CONTEXT}\n",
    "\n",
    "Question:\n",
    "{task['question']}\n",
    "\"\"\".strip()\n",
    "    try:\n",
    "        resp = ollama_run(MODEL, prompt)\n",
    "    except Exception as e:\n",
    "        resp = f\"[ERROR running model locally] {e}\"\n",
    "    cot_trials.append(Trial(step=\"cot\", task_id=task[\"id\"], prompt=prompt, response=resp, meta={\"cot\": True}))\n",
    "\n",
    "save_trials(cot_trials, os.path.join(RESULTS_DIR, \"step4_cot.json\"))\n"
   ],
   "id": "188cee2bd521363c",
   "outputs": [
    {
     "name": "stdout",
     "output_type": "stream",
     "text": [
      "Saved 4 trials to a3_outputs\\step4_cot.json\n"
     ]
    }
   ],
   "execution_count": 7
  },
  {
   "metadata": {},
   "cell_type": "markdown",
   "source": [
    "6) Scoring Scaffold (Manual or Programmatic)\n",
    "Rate each response on:\n",
    "\n",
    "Correctness (0–5), Completeness (0–5), Clarity (0–5).\n",
    "Optionally mark factual errors."
   ],
   "id": "771f9050ae98df63"
  },
  {
   "metadata": {
    "ExecuteTime": {
     "end_time": "2025-09-18T05:18:31.455637Z",
     "start_time": "2025-09-18T05:18:31.429357Z"
    }
   },
   "cell_type": "code",
   "source": [
    "import json, glob, pandas as pd\n",
    "\n",
    "def load_trials(pattern):\n",
    "    rows = []\n",
    "    for path in sorted(glob.glob(pattern)):\n",
    "        with open(path, \"r\", encoding=\"utf-8\") as f:\n",
    "            data = json.load(f)\n",
    "        for item in data:\n",
    "            rows.append({\n",
    "                \"file\": os.path.basename(path),\n",
    "                \"step\": item[\"step\"],\n",
    "                \"task_id\": item[\"task_id\"],\n",
    "                \"prompt\": item[\"prompt\"],\n",
    "                \"response\": item[\"response\"],\n",
    "            })\n",
    "    return pd.DataFrame(rows)\n",
    "\n",
    "df = load_trials(os.path.join(RESULTS_DIR, \"step*.json\"))\n",
    "df.head()"
   ],
   "id": "2de24bcea5a229cd",
   "outputs": [
    {
     "data": {
      "text/plain": [
       "                 file     step task_id  \\\n",
       "0    step1_basic.json    basic      t1   \n",
       "1    step1_basic.json    basic      t2   \n",
       "2    step1_basic.json    basic      t3   \n",
       "3    step1_basic.json    basic      t4   \n",
       "4  step3_fewshot.json  fewshot      t1   \n",
       "\n",
       "                                              prompt  \\\n",
       "0  You are a helpful assistant.\\n\\nContext:\\nAcme...   \n",
       "1  You are a helpful assistant.\\n\\nContext:\\nAcme...   \n",
       "2  You are a helpful assistant.\\n\\nContext:\\nAcme...   \n",
       "3  You are a helpful assistant.\\n\\nContext:\\nAcme...   \n",
       "4  You are a helpful assistant. Here are some QA ...   \n",
       "\n",
       "                                            response  \n",
       "0  [ERROR running model locally] [WinError 2] The...  \n",
       "1  [ERROR running model locally] [WinError 2] The...  \n",
       "2  [ERROR running model locally] [WinError 2] The...  \n",
       "3  [ERROR running model locally] [WinError 2] The...  \n",
       "4  [ERROR running model locally] [WinError 2] The...  "
      ],
      "text/html": [
       "<div>\n",
       "<style scoped>\n",
       "    .dataframe tbody tr th:only-of-type {\n",
       "        vertical-align: middle;\n",
       "    }\n",
       "\n",
       "    .dataframe tbody tr th {\n",
       "        vertical-align: top;\n",
       "    }\n",
       "\n",
       "    .dataframe thead th {\n",
       "        text-align: right;\n",
       "    }\n",
       "</style>\n",
       "<table border=\"1\" class=\"dataframe\">\n",
       "  <thead>\n",
       "    <tr style=\"text-align: right;\">\n",
       "      <th></th>\n",
       "      <th>file</th>\n",
       "      <th>step</th>\n",
       "      <th>task_id</th>\n",
       "      <th>prompt</th>\n",
       "      <th>response</th>\n",
       "    </tr>\n",
       "  </thead>\n",
       "  <tbody>\n",
       "    <tr>\n",
       "      <th>0</th>\n",
       "      <td>step1_basic.json</td>\n",
       "      <td>basic</td>\n",
       "      <td>t1</td>\n",
       "      <td>You are a helpful assistant.\\n\\nContext:\\nAcme...</td>\n",
       "      <td>[ERROR running model locally] [WinError 2] The...</td>\n",
       "    </tr>\n",
       "    <tr>\n",
       "      <th>1</th>\n",
       "      <td>step1_basic.json</td>\n",
       "      <td>basic</td>\n",
       "      <td>t2</td>\n",
       "      <td>You are a helpful assistant.\\n\\nContext:\\nAcme...</td>\n",
       "      <td>[ERROR running model locally] [WinError 2] The...</td>\n",
       "    </tr>\n",
       "    <tr>\n",
       "      <th>2</th>\n",
       "      <td>step1_basic.json</td>\n",
       "      <td>basic</td>\n",
       "      <td>t3</td>\n",
       "      <td>You are a helpful assistant.\\n\\nContext:\\nAcme...</td>\n",
       "      <td>[ERROR running model locally] [WinError 2] The...</td>\n",
       "    </tr>\n",
       "    <tr>\n",
       "      <th>3</th>\n",
       "      <td>step1_basic.json</td>\n",
       "      <td>basic</td>\n",
       "      <td>t4</td>\n",
       "      <td>You are a helpful assistant.\\n\\nContext:\\nAcme...</td>\n",
       "      <td>[ERROR running model locally] [WinError 2] The...</td>\n",
       "    </tr>\n",
       "    <tr>\n",
       "      <th>4</th>\n",
       "      <td>step3_fewshot.json</td>\n",
       "      <td>fewshot</td>\n",
       "      <td>t1</td>\n",
       "      <td>You are a helpful assistant. Here are some QA ...</td>\n",
       "      <td>[ERROR running model locally] [WinError 2] The...</td>\n",
       "    </tr>\n",
       "  </tbody>\n",
       "</table>\n",
       "</div>"
      ]
     },
     "execution_count": 8,
     "metadata": {},
     "output_type": "execute_result"
    }
   ],
   "execution_count": 8
  },
  {
   "metadata": {
    "ExecuteTime": {
     "end_time": "2025-09-18T05:18:49.437251Z",
     "start_time": "2025-09-18T05:18:49.426644Z"
    }
   },
   "cell_type": "code",
   "source": [
    "# Add scoring columns and export a CSV for manual rating\n",
    "df_scores = df.copy()\n",
    "for col in [\"correctness_0_5\", \"completeness_0_5\", \"clarity_0_5\", \"notes\"]:\n",
    "    if col not in df_scores.columns:\n",
    "        df_scores[col] = \"\"\n",
    "\n",
    "out_csv = os.path.join(RESULTS_DIR, \"ratings_template.csv\")\n",
    "df_scores.to_csv(out_csv, index=False)\n",
    "out_csv"
   ],
   "id": "5e8d8343bb469bd5",
   "outputs": [
    {
     "data": {
      "text/plain": [
       "'a3_outputs\\\\ratings_template.csv'"
      ]
     },
     "execution_count": 9,
     "metadata": {},
     "output_type": "execute_result"
    }
   ],
   "execution_count": 9
  },
  {
   "metadata": {},
   "cell_type": "markdown",
   "source": [
    "7) Aggregate & Compare\n",
    "After you fill in ratings_template.csv, re‑import and compute per‑step averages."
   ],
   "id": "7b501e6e8d89e3d5"
  },
  {
   "metadata": {
    "ExecuteTime": {
     "end_time": "2025-09-18T05:19:13.048856Z",
     "start_time": "2025-09-18T05:19:13.022237Z"
    }
   },
   "cell_type": "code",
   "source": [
    "import pandas as pd, numpy as np\n",
    "\n",
    "ratings_path = os.path.join(RESULTS_DIR, \"ratings_template.csv\")\n",
    "ratings = pd.read_csv(ratings_path)\n",
    "\n",
    "def to_num(x):\n",
    "    try:\n",
    "        return float(x)\n",
    "    except:\n",
    "        return np.nan\n",
    "\n",
    "ratings[\"correctness_0_5\"] = ratings[\"correctness_0_5\"].apply(to_num)\n",
    "ratings[\"completeness_0_5\"] = ratings[\"completeness_0_5\"].apply(to_num)\n",
    "ratings[\"clarity_0_5\"] = ratings[\"clarity_0_5\"].apply(to_num)\n",
    "\n",
    "summary = ratings.groupby(\"step\")[[\"correctness_0_5\",\"completeness_0_5\",\"clarity_0_5\"]].mean().round(2)\n",
    "summary"
   ],
   "id": "b8c01c1dd5541b34",
   "outputs": [
    {
     "data": {
      "text/plain": [
       "         correctness_0_5  completeness_0_5  clarity_0_5\n",
       "step                                                   \n",
       "basic                NaN               NaN          NaN\n",
       "cot                  NaN               NaN          NaN\n",
       "fewshot              NaN               NaN          NaN"
      ],
      "text/html": [
       "<div>\n",
       "<style scoped>\n",
       "    .dataframe tbody tr th:only-of-type {\n",
       "        vertical-align: middle;\n",
       "    }\n",
       "\n",
       "    .dataframe tbody tr th {\n",
       "        vertical-align: top;\n",
       "    }\n",
       "\n",
       "    .dataframe thead th {\n",
       "        text-align: right;\n",
       "    }\n",
       "</style>\n",
       "<table border=\"1\" class=\"dataframe\">\n",
       "  <thead>\n",
       "    <tr style=\"text-align: right;\">\n",
       "      <th></th>\n",
       "      <th>correctness_0_5</th>\n",
       "      <th>completeness_0_5</th>\n",
       "      <th>clarity_0_5</th>\n",
       "    </tr>\n",
       "    <tr>\n",
       "      <th>step</th>\n",
       "      <th></th>\n",
       "      <th></th>\n",
       "      <th></th>\n",
       "    </tr>\n",
       "  </thead>\n",
       "  <tbody>\n",
       "    <tr>\n",
       "      <th>basic</th>\n",
       "      <td>NaN</td>\n",
       "      <td>NaN</td>\n",
       "      <td>NaN</td>\n",
       "    </tr>\n",
       "    <tr>\n",
       "      <th>cot</th>\n",
       "      <td>NaN</td>\n",
       "      <td>NaN</td>\n",
       "      <td>NaN</td>\n",
       "    </tr>\n",
       "    <tr>\n",
       "      <th>fewshot</th>\n",
       "      <td>NaN</td>\n",
       "      <td>NaN</td>\n",
       "      <td>NaN</td>\n",
       "    </tr>\n",
       "  </tbody>\n",
       "</table>\n",
       "</div>"
      ]
     },
     "execution_count": 10,
     "metadata": {},
     "output_type": "execute_result"
    }
   ],
   "execution_count": 10
  },
  {
   "metadata": {},
   "cell_type": "code",
   "outputs": [],
   "execution_count": null,
   "source": [
    "8) Visualization\n",
    "Plot average scores by step (Basic vs Structured vs Few‑shot vs CoT)."
   ],
   "id": "e8adb5118270dec7"
  },
  {
   "metadata": {
    "ExecuteTime": {
     "end_time": "2025-09-18T05:19:31.804582Z",
     "start_time": "2025-09-18T05:19:31.621553Z"
    }
   },
   "cell_type": "code",
   "source": [
    "import matplotlib.pyplot as plt\n",
    "\n",
    "summary.plot(kind=\"bar\")\n",
    "plt.title(\"Average Ratings by Prompting Strategy\")\n",
    "plt.ylabel(\"Score (0–5)\")\n",
    "plt.xlabel(\"Strategy\")\n",
    "plt.tight_layout()\n",
    "plt.show()"
   ],
   "id": "d59da09023d0e529",
   "outputs": [
    {
     "data": {
      "text/plain": [
       "<Figure size 640x480 with 1 Axes>"
      ],
      "image/png": "[encoded data removed]"
     },
     "metadata": {},
     "output_type": "display_data",
     "jetTransient": {
      "display_id": null
     }
    }
   ],
   "execution_count": 11
  }
 ],
 "metadata": {
  "kernelspec": {
   "display_name": "Python 3",
   "language": "python",
   "name": "python3"
  },
  "language_info": {
   "codemirror_mode": {
    "name": "ipython",
    "version": 2
   },
   "file_extension": ".py",
   "mimetype": "text/x-python",
   "name": "python",
   "nbconvert_exporter": "python",
   "pygments_lexer": "ipython2",
   "version": "2.7.6"
  }
 },
 "nbformat": 4,
 "nbformat_minor": 5
}
