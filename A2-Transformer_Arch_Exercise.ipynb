{
 "cells": [
  {
   "metadata": {},
   "cell_type": "markdown",
   "source": "# Assignment 2: Transformer Architecture Exercise",
   "id": "95c85b199c971b01"
  },
  {
   "metadata": {},
   "cell_type": "markdown",
   "source": "Dataset: CNN/DailyMail v3.0.0",
   "id": "a6d33a1e4daa6024"
  },
  {
   "metadata": {
    "ExecuteTime": {
     "end_time": "2025-09-15T02:57:19.899452Z",
     "start_time": "2025-09-15T02:57:10.294140Z"
    }
   },
   "cell_type": "code",
   "source": [
    "import os\n",
    "import numpy as np\n",
    "import pandas as pd\n",
    "import matplotlib.pyplot as plt\n",
    "import torch\n",
    "from datasets import load_dataset\n",
    "from transformers import (\n",
    "    AutoTokenizer,\n",
    "    AutoModelForCausalLM,\n",
    "    AutoModelForMaskedLM,\n",
    "    AutoModelForSeq2SeqLM,\n",
    "    DataCollatorForLanguageModeling,\n",
    "    DataCollatorForSeq2Seq,\n",
    "    Trainer,\n",
    "    TrainingArguments,\n",
    "    logging\n",
    ")\n",
    "import evaluate\n",
    "import math\n",
    "import sacrebleu"
   ],
   "id": "e9a555d68664d263",
   "outputs": [],
   "execution_count": 1
  },
  {
   "metadata": {
    "ExecuteTime": {
     "end_time": "2025-09-15T02:57:19.972109Z",
     "start_time": "2025-09-15T02:57:19.906354Z"
    }
   },
   "cell_type": "code",
   "source": [
    "# Silence warnings for cleaner output\n",
    "logging.set_verbosity_error()\n",
    "\n",
    "# Using my RTX 4070 dGPU\n",
    "print(torch.version.cuda)\n",
    "device = torch.device(\"cuda\" if torch.cuda.is_available() else \"cpu\")\n",
    "print(f\"Using device: {device}\")"
   ],
   "id": "8adda6e8cff8948d",
   "outputs": [
    {
     "name": "stdout",
     "output_type": "stream",
     "text": [
      "12.9\n",
      "Using device: cuda\n"
     ]
    }
   ],
   "execution_count": 2
  },
  {
   "metadata": {},
   "cell_type": "markdown",
   "source": "## Part 1: Model Training & Implementation",
   "id": "e9ddf166f827d503"
  },
  {
   "metadata": {},
   "cell_type": "markdown",
   "source": [
    "### 1. Dataset Preparation\n",
    "- Choose one standard text dataset suitable for generative tasks. Options include:\n",
    "  - CNN/DailyMail → summarization\n",
    "  - WikiText-2 → language modeling (text generation)\n",
    "  - SQuAD v1.1 → question answering\n",
    "- Briefly describe why you selected this dataset and what task you’ll evaluate (summarization, QA, or text generation).\n",
    "- Show how you preprocessed the data (tokenization, train/val split, max length, etc.)."
   ],
   "id": "a504b6ce46690b14"
  },
  {
   "metadata": {},
   "cell_type": "markdown",
   "source": "#### --- Answer --",
   "id": "553e4650180bcd73"
  },
  {
   "metadata": {},
   "cell_type": "markdown",
   "source": [
    "- Using CNN/DailyMail v3.0.0\n",
    "- CNN/DailyMail is chosen for this assignment because it is a widely used benchmark for the summarization task, containing 300,000+ news articles paired with human-written highlights. This makes it ideal for evaluating and developing generative language models focused on extractive or abstractive summarization—key challenges in natural language processing."
   ],
   "id": "3b6f6da2b98679d4"
  },
  {
   "metadata": {
    "ExecuteTime": {
     "end_time": "2025-09-15T02:57:39.432709Z",
     "start_time": "2025-09-15T02:57:19.978700Z"
    }
   },
   "cell_type": "code",
   "source": [
    "dataset = load_dataset(\"cnn_dailymail\", \"3.0.0\")\n",
    "\n",
    "# For quick experimentation, take a small subset\n",
    "train_size = 500\n",
    "val_size = 100\n",
    "small_train_dataset = dataset[\"train\"].shuffle(seed=42).select(range(train_size))\n",
    "small_val_dataset = dataset[\"validation\"].shuffle(seed=42).select(range(val_size))\n",
    "\n",
    "print(\"Dataset splits:\", dataset.keys())\n",
    "print(\"Example training record:\", small_train_dataset[0])"
   ],
   "id": "f036a7a24a9bed8f",
   "outputs": [
    {
     "name": "stdout",
     "output_type": "stream",
     "text": [
      "Dataset splits: dict_keys(['train', 'validation', 'test'])\n",
      "Example training record: {'article': \"By . Anthony Bond . PUBLISHED: . 07:03 EST, 2 March 2013 . | . UPDATED: . 08:07 EST, 2 March 2013 . Three members of the same family who died in a static caravan from carbon monoxide poisoning would have been unconscious 'within minutes', investigators said today. The bodies of married couple John and Audrey Cook were discovered alongside their daughter, Maureen, at the mobile home they shared on Tremarle Home Park in Camborne, west Cornwall. The inquests have now opened into the deaths last Saturday, with investigators saying the three died along with the family's pet dog, of carbon monoxide poisoning from a cooker. Tragic: The inquests have opened into the deaths of three members of the same family who were found in their static caravan last weekend. John and Audrey Cook are pictured . Awful: The family died following carbon monoxide poisoning at this caravan at the Tremarle Home Park in Camborne, Cornwall . It is also believed there was no working carbon monoxide detector in the static caravan. Cornwall Fire and Rescue Service said this would have resulted in the three being unconscious 'within minutes', . A spokesman for Cornwall coroner Dr Emma Carlyon confirmed the inquests were opened and adjourned yesterday afternoon. They will resume at a later date. Devon and Cornwall Police confirmed on Monday that carbon monoxide poisoning had been established as the cause of death. A police spokesman said the source of the poisoning was 'believed to be from incorrect operation of the gas cooker'. Poisoning: This woman left flowers outside the caravan following the deaths. It has emerged that the trio would have been unconscious 'within minutes' Touching: This tribute was left outside the caravan following news of the deaths . Early readings from experts at the site revealed a potentially lethal level of carbon monoxide present within the caravan at the time it was taken, shortly after the discovery of the bodies. Friends and neighbours have paid tribute to the trio. One . neighbour, Sonya Owen, 53, said: 'It's very distressing. I knew the . daughter, she was living her with her mum and dad. Everybody is really . upset.' Margaret Holmes, 65, who lived near the couple and their . daughter, said: 'They had lived here for around 40 years and they kept . themselves to themselves. 'I just can’t believe this has . happened, it is so sad and I am so shocked, I think we all are, you just . don’t expect this sort of thing to happen on your doorstep. 'Everyone will miss them, we used to chat a lot when we were both in the garden. 'I would just like to send my condolences to their family, I can’t imagine what they’re going through.' Nic Clark, 52, who was good friends with daughter Maureen, added: 'They were a lovely kind family, a great trio. 'Maureen . used to go out and walk her dog, a little Jack Russell, it is so sad . what has happened, I understand the dog went with them. 'They . will be sorely missed and I think everyone is just in shock at the . moment, I would like to send my condolences to the Cook family.'\", 'highlights': 'John and .\\nAudrey Cook were discovered alongside their daughter, Maureen .\\nThey were found at Tremarle Home Park in Cornwall .\\nInvestigators say the three died of carbon monoxide .\\npoisoning .', 'id': '08cf276c9eadb638e0c7fdc83ce0229c8af5d09b'}\n"
     ]
    }
   ],
   "execution_count": 3
  },
  {
   "metadata": {},
   "cell_type": "markdown",
   "source": [
    "### 2. Model Implementation\n",
    "\n",
    "Implement and train the following:\n",
    "- Decoder-only model (GPT-style): e.g., GPT-2 small from Hugging Face.\n",
    "- Encoder-only model (BERT-style): e.g., BERT-base, used for masked-language-modeling or extractive QA/summarization.\n",
    "- Encoder-decoder model (T5-style): e.g., T5-small, trained for the same dataset/task as the other two."
   ],
   "id": "849e5338f82c11e6"
  },
  {
   "metadata": {},
   "cell_type": "markdown",
   "source": "#### --- Decoder-only model (GPT-2) ---",
   "id": "5661bc28550b84d7"
  },
  {
   "metadata": {
    "ExecuteTime": {
     "end_time": "2025-09-15T02:57:40.707148Z",
     "start_time": "2025-09-15T02:57:39.440373Z"
    }
   },
   "cell_type": "code",
   "source": [
    "gpt2_model_name = \"gpt2\"\n",
    "gpt2_tokenizer = AutoTokenizer.from_pretrained(gpt2_model_name)\n",
    "gpt2_tokenizer.pad_token = gpt2_tokenizer.eos_token\n",
    "\n",
    "# Define the preprocessing function for GPT-2\n",
    "def preprocess_gpt2(examples):\n",
    "    prefix = \"summarize: \"\n",
    "    inputs = [prefix + art for art in examples[\"article\"]]\n",
    "    targets = examples[\"highlights\"]\n",
    "\n",
    "    # Tokenize inputs and targets together, pad to max_length\n",
    "    model_inputs = gpt2_tokenizer(\n",
    "        inputs, text_target=targets,\n",
    "        max_length=512, truncation=True, padding=\"max_length\"\n",
    "    )\n",
    "\n",
    "    # Ensure labels are padded to max_length as well\n",
    "    if \"labels\" in model_inputs:\n",
    "        labels = model_inputs[\"labels\"]\n",
    "        for i in range(len(labels)):\n",
    "            labels[i] = labels[i] + [-100] * (512 - len(labels[i])) if len(labels[i]) < 512 else labels[i][:512]\n",
    "        model_inputs[\"labels\"] = labels\n",
    "    return model_inputs\n",
    "\n",
    "# Apply preprocessing to the small datasets\n",
    "train_gpt2 = small_train_dataset.map(preprocess_gpt2, batched=True, remove_columns=dataset[\"train\"].column_names)\n",
    "val_gpt2 = small_val_dataset.map(preprocess_gpt2, batched=True, remove_columns=dataset[\"validation\"].column_names)\n",
    "\n",
    "print(\"Sample tokenized GPT-2 input:\")\n",
    "print(gpt2_tokenizer.decode(train_gpt2[0][\"input_ids\"][:100]))"
   ],
   "id": "dc9ae928fa1c41fb",
   "outputs": [
    {
     "name": "stdout",
     "output_type": "stream",
     "text": [
      "Sample tokenized GPT-2 input:\n",
      "summarize: By . Anthony Bond . PUBLISHED: . 07:03 EST, 2 March 2013 . | . UPDATED: . 08:07 EST, 2 March 2013 . Three members of the same family who died in a static caravan from carbon monoxide poisoning would have been unconscious 'within minutes', investigators said today. The bodies of married couple John and Audrey Cook were discovered alongside their daughter, Maureen, at the mobile home they shared on Tremarle Home Park in Cam\n"
     ]
    }
   ],
   "execution_count": 4
  },
  {
   "metadata": {
    "ExecuteTime": {
     "end_time": "2025-09-15T02:58:16.851752Z",
     "start_time": "2025-09-15T02:57:40.718431Z"
    }
   },
   "cell_type": "code",
   "source": [
    "# Define data collator\n",
    "data_collator_gpt2 = DataCollatorForLanguageModeling(tokenizer=gpt2_tokenizer, mlm=False)\n",
    "\n",
    "# Load the GPT-2 model\n",
    "gpt2_model = AutoModelForCausalLM.from_pretrained(gpt2_model_name)\n",
    "\n",
    "# Training arguments\n",
    "training_args_gpt2 = TrainingArguments(\n",
    "    output_dir=\"./gpt2-summarization\",\n",
    "    eval_strategy=\"steps\",\n",
    "    # eval_steps=100,\n",
    "    eval_steps=20,\n",
    "    logging_strategy=\"steps\",\n",
    "    # logging_steps=100,\n",
    "    logging_steps=10,\n",
    "    per_device_train_batch_size=2,\n",
    "    per_device_eval_batch_size=2,\n",
    "    num_train_epochs=1,\n",
    "    weight_decay=0.01,\n",
    "    save_steps=500,\n",
    "    save_total_limit=1,\n",
    "    warmup_steps=50,\n",
    "    gradient_accumulation_steps=4,\n",
    "    fp16=torch.cuda.is_available(),\n",
    "    report_to=[],  # disable logging to wandb\n",
    ")\n",
    "\n",
    "# Create Trainer for GPT-2\n",
    "trainer_gpt2 = Trainer(\n",
    "    model=gpt2_model,\n",
    "    args=training_args_gpt2,\n",
    "    train_dataset=train_gpt2,\n",
    "    eval_dataset=val_gpt2,\n",
    "    data_collator=data_collator_gpt2,\n",
    ")\n",
    "\n",
    "trainer_gpt2.train()\n",
    "\n",
    "# save the model\n",
    "gpt2_model.save_pretrained(\"./gpt2-summarization\")\n",
    "gpt2_tokenizer.save_pretrained(\"./gpt2-summarization\")"
   ],
   "id": "f3090ad40f32141a",
   "outputs": [
    {
     "name": "stdout",
     "output_type": "stream",
     "text": [
      "{'loss': 3.4201, 'grad_norm': 4.949297904968262, 'learning_rate': 9e-06, 'epoch': 0.16}\n",
      "{'loss': 3.3316, 'grad_norm': 4.34549617767334, 'learning_rate': 1.9e-05, 'epoch': 0.32}\n",
      "{'eval_loss': 3.0128118991851807, 'eval_runtime': 1.7236, 'eval_samples_per_second': 58.02, 'eval_steps_per_second': 29.01, 'epoch': 0.32}\n",
      "{'loss': 3.1874, 'grad_norm': 3.851698398590088, 'learning_rate': 2.9e-05, 'epoch': 0.48}\n",
      "{'loss': 3.1834, 'grad_norm': 4.155812740325928, 'learning_rate': 3.9000000000000006e-05, 'epoch': 0.64}\n",
      "{'eval_loss': 2.967109441757202, 'eval_runtime': 1.5436, 'eval_samples_per_second': 64.785, 'eval_steps_per_second': 32.392, 'epoch': 0.64}\n",
      "{'loss': 3.1703, 'grad_norm': 3.8318402767181396, 'learning_rate': 4.9e-05, 'epoch': 0.8}\n",
      "{'loss': 3.1231, 'grad_norm': 3.4762234687805176, 'learning_rate': 1.5384615384615387e-05, 'epoch': 0.96}\n",
      "{'eval_loss': 2.945333242416382, 'eval_runtime': 1.3847, 'eval_samples_per_second': 72.216, 'eval_steps_per_second': 36.108, 'epoch': 0.96}\n",
      "{'train_runtime': 32.7801, 'train_samples_per_second': 15.253, 'train_steps_per_second': 1.922, 'train_loss': 3.2348720308334107, 'epoch': 1.0}\n"
     ]
    },
    {
     "data": {
      "text/plain": [
       "('./gpt2-summarization\\\\tokenizer_config.json',\n",
       " './gpt2-summarization\\\\special_tokens_map.json',\n",
       " './gpt2-summarization\\\\vocab.json',\n",
       " './gpt2-summarization\\\\merges.txt',\n",
       " './gpt2-summarization\\\\added_tokens.json',\n",
       " './gpt2-summarization\\\\tokenizer.json')"
      ]
     },
     "execution_count": 5,
     "metadata": {},
     "output_type": "execute_result"
    }
   ],
   "execution_count": 5
  },
  {
   "metadata": {},
   "cell_type": "markdown",
   "source": "#### --- Encoder-only model (BERT-base-uncased) ---",
   "id": "1db6525fceaa7e60"
  },
  {
   "metadata": {
    "ExecuteTime": {
     "end_time": "2025-09-15T02:58:44.681274Z",
     "start_time": "2025-09-15T02:58:16.873373Z"
    }
   },
   "cell_type": "code",
   "source": [
    "bert_model_name = \"bert-base-uncased\"\n",
    "bert_tokenizer = AutoTokenizer.from_pretrained(bert_model_name)\n",
    "\n",
    "def preprocess_bert(examples):\n",
    "    concatenated_texts = [\n",
    "        art + \" \" + summ\n",
    "        for art, summ in zip(examples[\"article\"], examples[\"highlights\"])\n",
    "    ]\n",
    "    model_inputs = bert_tokenizer(concatenated_texts, max_length=512, truncation=True)\n",
    "    return model_inputs\n",
    "\n",
    "train_bert = small_train_dataset.map(preprocess_bert, batched=True, remove_columns=dataset[\"train\"].column_names)\n",
    "val_bert = small_val_dataset.map(preprocess_bert, batched=True, remove_columns=dataset[\"validation\"].column_names)\n",
    "\n",
    "# Data collator with MLM\n",
    "mlm_probability = 0.15\n",
    "data_collator_bert = DataCollatorForLanguageModeling(tokenizer=bert_tokenizer, mlm=True, mlm_probability=mlm_probability)\n",
    "\n",
    "# Load BERT model\n",
    "bert_model = AutoModelForMaskedLM.from_pretrained(bert_model_name)\n",
    "\n",
    "# Training arguments for BERT\n",
    "training_args_bert = TrainingArguments(\n",
    "    output_dir=\"./bert-mlm\",\n",
    "    eval_strategy=\"steps\",\n",
    "    # eval_steps=100,\n",
    "    eval_steps=20,\n",
    "    logging_strategy=\"steps\",\n",
    "    # logging_steps=100,\n",
    "    logging_steps=10,\n",
    "    per_device_train_batch_size=4,\n",
    "    per_device_eval_batch_size=4,\n",
    "    num_train_epochs=1,\n",
    "    weight_decay=0.01,\n",
    "    save_steps=500,\n",
    "    save_total_limit=1,\n",
    "    warmup_steps=50,\n",
    "    gradient_accumulation_steps=1,\n",
    "    fp16=torch.cuda.is_available(),\n",
    "    report_to=[],\n",
    ")\n",
    "\n",
    "trainer_bert = Trainer(\n",
    "    model=bert_model,\n",
    "    args=training_args_bert,\n",
    "    train_dataset=train_bert,\n",
    "    eval_dataset=val_bert,\n",
    "    data_collator=data_collator_bert,\n",
    ")\n",
    "\n",
    "trainer_bert.train()\n",
    "\n",
    "# save the model\n",
    "bert_model.save_pretrained(\"./bert-mlm\")\n",
    "bert_tokenizer.save_pretrained(\"./bert-mlm\")"
   ],
   "id": "b5f1e1832191a11e",
   "outputs": [
    {
     "name": "stdout",
     "output_type": "stream",
     "text": [
      "{'loss': 2.4547, 'grad_norm': 9.07229232788086, 'learning_rate': 9e-06, 'epoch': 0.08}\n",
      "{'loss': 2.3262, 'grad_norm': 8.52872085571289, 'learning_rate': 1.9e-05, 'epoch': 0.16}\n",
      "{'eval_loss': 2.028055191040039, 'eval_runtime': 1.0881, 'eval_samples_per_second': 91.901, 'eval_steps_per_second': 22.975, 'epoch': 0.16}\n",
      "{'loss': 2.1843, 'grad_norm': 7.6682586669921875, 'learning_rate': 2.9e-05, 'epoch': 0.24}\n",
      "{'loss': 2.2625, 'grad_norm': 9.98085880279541, 'learning_rate': 3.9000000000000006e-05, 'epoch': 0.32}\n",
      "{'eval_loss': 2.010075807571411, 'eval_runtime': 0.9246, 'eval_samples_per_second': 108.159, 'eval_steps_per_second': 27.04, 'epoch': 0.32}\n",
      "{'loss': 2.2167, 'grad_norm': 8.905447959899902, 'learning_rate': 4.9e-05, 'epoch': 0.4}\n",
      "{'loss': 2.1087, 'grad_norm': 9.441564559936523, 'learning_rate': 4.4000000000000006e-05, 'epoch': 0.48}\n",
      "{'eval_loss': 1.8298851251602173, 'eval_runtime': 0.887, 'eval_samples_per_second': 112.737, 'eval_steps_per_second': 28.184, 'epoch': 0.48}\n",
      "{'loss': 2.2299, 'grad_norm': 9.439621925354004, 'learning_rate': 3.733333333333334e-05, 'epoch': 0.56}\n",
      "{'loss': 2.2891, 'grad_norm': 8.158856391906738, 'learning_rate': 3.066666666666667e-05, 'epoch': 0.64}\n",
      "{'eval_loss': 1.8732277154922485, 'eval_runtime': 0.9004, 'eval_samples_per_second': 111.056, 'eval_steps_per_second': 27.764, 'epoch': 0.64}\n",
      "{'loss': 2.0774, 'grad_norm': 8.828201293945312, 'learning_rate': 2.4e-05, 'epoch': 0.72}\n",
      "{'loss': 2.1468, 'grad_norm': 8.328177452087402, 'learning_rate': 1.7333333333333336e-05, 'epoch': 0.8}\n",
      "{'eval_loss': 1.9121334552764893, 'eval_runtime': 0.8906, 'eval_samples_per_second': 112.283, 'eval_steps_per_second': 28.071, 'epoch': 0.8}\n",
      "{'loss': 2.0555, 'grad_norm': 9.124006271362305, 'learning_rate': 1.0666666666666667e-05, 'epoch': 0.88}\n",
      "{'loss': 2.0124, 'grad_norm': 9.214537620544434, 'learning_rate': 4.000000000000001e-06, 'epoch': 0.96}\n",
      "{'eval_loss': 1.8025383949279785, 'eval_runtime': 0.8889, 'eval_samples_per_second': 112.504, 'eval_steps_per_second': 28.126, 'epoch': 0.96}\n",
      "{'train_runtime': 23.459, 'train_samples_per_second': 21.314, 'train_steps_per_second': 5.328, 'train_loss': 2.198275321960449, 'epoch': 1.0}\n"
     ]
    },
    {
     "data": {
      "text/plain": [
       "('./bert-mlm\\\\tokenizer_config.json',\n",
       " './bert-mlm\\\\special_tokens_map.json',\n",
       " './bert-mlm\\\\vocab.txt',\n",
       " './bert-mlm\\\\added_tokens.json',\n",
       " './bert-mlm\\\\tokenizer.json')"
      ]
     },
     "execution_count": 6,
     "metadata": {},
     "output_type": "execute_result"
    }
   ],
   "execution_count": 6
  },
  {
   "metadata": {},
   "cell_type": "markdown",
   "source": "#### --- Encoder-decoder model (T5-small) ---",
   "id": "6d59f30361550b8"
  },
  {
   "metadata": {
    "ExecuteTime": {
     "end_time": "2025-09-15T02:59:23.203414Z",
     "start_time": "2025-09-15T02:58:44.697378Z"
    }
   },
   "cell_type": "code",
   "source": [
    "t5_model_name = \"t5-small\"\n",
    "t5_tokenizer = AutoTokenizer.from_pretrained(t5_model_name)\n",
    "\n",
    "def preprocess_t5(examples):\n",
    "    inputs = [\"summarize: \" + doc for doc in examples[\"article\"]]\n",
    "    model_inputs = t5_tokenizer(inputs, max_length=512, truncation=True)\n",
    "\n",
    "    # Tokenize targets\n",
    "    labels = t5_tokenizer(examples[\"highlights\"], max_length=128, truncation=True)\n",
    "    model_inputs[\"labels\"] = labels[\"input_ids\"]\n",
    "    return model_inputs\n",
    "\n",
    "train_t5 = small_train_dataset.map(preprocess_t5, batched=True, remove_columns=dataset[\"train\"].column_names)\n",
    "val_t5 = small_val_dataset.map(preprocess_t5, batched=True, remove_columns=dataset[\"validation\"].column_names)\n",
    "\n",
    "# Data collator for seq2seq tasks\n",
    "data_collator_t5 = DataCollatorForSeq2Seq(tokenizer=t5_tokenizer, model=t5_model_name)\n",
    "\n",
    "# Load T5 model\n",
    "t5_model = AutoModelForSeq2SeqLM.from_pretrained(t5_model_name)\n",
    "\n",
    "# Training arguments for T5\n",
    "training_args_t5 = TrainingArguments(\n",
    "    output_dir=\"./t5-summarization\",\n",
    "    eval_strategy=\"steps\",\n",
    "    # eval_steps=100,\n",
    "    eval_steps=20,\n",
    "    logging_strategy=\"steps\",\n",
    "    # logging_steps=100,\n",
    "    logging_steps=10,\n",
    "    per_device_train_batch_size=2,\n",
    "    per_device_eval_batch_size=2,\n",
    "    num_train_epochs=1,\n",
    "    weight_decay=0.01,\n",
    "    save_steps=500,\n",
    "    save_total_limit=1,\n",
    "    warmup_steps=50,\n",
    "    gradient_accumulation_steps=4,\n",
    "    fp16=torch.cuda.is_available(),\n",
    "    report_to=[],\n",
    ")\n",
    "\n",
    "trainer_t5 = Trainer(\n",
    "    model=t5_model,\n",
    "    args=training_args_t5,\n",
    "    train_dataset=train_t5,\n",
    "    eval_dataset=val_t5,\n",
    "    data_collator=data_collator_t5,\n",
    "    # tokenizer=t5_tokenizer,\n",
    ")\n",
    "\n",
    "trainer_t5.train()\n",
    "\n",
    "# save the model\n",
    "t5_model.save_pretrained(\"./t5-summarization\")\n",
    "t5_tokenizer.save_pretrained(\"./t5-summarization\")"
   ],
   "id": "88dabc32269aa4ee",
   "outputs": [
    {
     "name": "stdout",
     "output_type": "stream",
     "text": [
      "{'loss': 2.7299, 'grad_norm': 2.785637855529785, 'learning_rate': 9e-06, 'epoch': 0.16}\n",
      "{'loss': 2.5815, 'grad_norm': 2.991875410079956, 'learning_rate': 1.9e-05, 'epoch': 0.32}\n",
      "{'eval_loss': 2.4820120334625244, 'eval_runtime': 1.5505, 'eval_samples_per_second': 64.496, 'eval_steps_per_second': 32.248, 'epoch': 0.32}\n",
      "{'loss': 2.3805, 'grad_norm': 3.0832786560058594, 'learning_rate': 2.9e-05, 'epoch': 0.48}\n",
      "{'loss': 2.351, 'grad_norm': 2.1476619243621826, 'learning_rate': 3.9000000000000006e-05, 'epoch': 0.64}\n",
      "{'eval_loss': 2.2708346843719482, 'eval_runtime': 1.7917, 'eval_samples_per_second': 55.814, 'eval_steps_per_second': 27.907, 'epoch': 0.64}\n",
      "{'loss': 2.2748, 'grad_norm': 4.081218242645264, 'learning_rate': 4.9e-05, 'epoch': 0.8}\n",
      "{'loss': 2.2163, 'grad_norm': 2.3716859817504883, 'learning_rate': 1.5384615384615387e-05, 'epoch': 0.96}\n",
      "{'eval_loss': 2.1036219596862793, 'eval_runtime': 2.1914, 'eval_samples_per_second': 45.632, 'eval_steps_per_second': 22.816, 'epoch': 0.96}\n",
      "{'train_runtime': 34.0827, 'train_samples_per_second': 14.67, 'train_steps_per_second': 1.848, 'train_loss': 2.410462394593254, 'epoch': 1.0}\n"
     ]
    },
    {
     "data": {
      "text/plain": [
       "('./t5-summarization\\\\tokenizer_config.json',\n",
       " './t5-summarization\\\\special_tokens_map.json',\n",
       " './t5-summarization\\\\tokenizer.json')"
      ]
     },
     "execution_count": 7,
     "metadata": {},
     "output_type": "execute_result"
    }
   ],
   "execution_count": 7
  },
  {
   "metadata": {},
   "cell_type": "markdown",
   "source": [
    "### 3. Training Documentation\n",
    "\n",
    "- Document your training setup (batch size, learning rate, optimizer, epochs, hardware).\n",
    "- Save a few training/validation loss curves or logs to show how training progressed.\n",
    "- Mention any difficulties you faced and how you addressed them (e.g., memory limits, convergence)."
   ],
   "id": "18c655caea582ee6"
  },
  {
   "metadata": {},
   "cell_type": "markdown",
   "source": [
    "#### Training Setup\n",
    "\n",
    "##### Hardware\n",
    "- **GPU:** NVIDIA RTX 4070 (CUDA 12.9 via torch)\n",
    "- **Precision:** Mixed precision (fp16) enabled where available for speed and memory headroom\n",
    "\n",
    "---\n",
    "\n",
    "##### GPT-2 (Decoder-Only)\n",
    "- **Batch:** per-device train/eval batch size = 2; gradient_accumulation_steps = 4 (effective ≈ 8)\n",
    "- **Optimizer & LR:** AdamW via Trainer; learning rate = 5e-5; weight_decay = 0.01; warmup_steps = 50; epochs = 1\n",
    "- **Scheduling/IO:**\n",
    "  - evaluation_strategy = `\"steps\"`, eval_steps = 100\n",
    "  - logging_steps = 10 (reduced from 100 to produce a proper training-loss curve on short runs)\n",
    "  - save_steps = 500\n",
    "  - fp16 enabled when CUDA is available\n",
    "  - report_to disabled\n",
    "\n",
    "---\n",
    "\n",
    "##### BERT (Encoder-Only, MLM)\n",
    "- **Batch:** per-device train/eval batch size = 4; gradient_accumulation_steps = 1\n",
    "- **Optimizer & LR:** AdamW; learning rate = 5e-5; weight_decay = 0.01; warmup_steps = 50; epochs = 1; mlm_probability = 0.15\n",
    "- **Scheduling/IO:**\n",
    "  - evaluation_strategy = `\"steps\"`, eval_steps = 50 (reduced from 100 to surface more validation points on short runs)\n",
    "  - logging_steps = 10 (reduced from 100 to emit multiple training-loss points)\n",
    "  - save_steps = 500\n",
    "  - fp16 when available\n",
    "  - report_to disabled\n",
    "\n",
    "---\n",
    "\n",
    "##### T5 (Encoder–Decoder)\n",
    "- **Batch:** per-device train/eval batch size = 2; gradient_accumulation_steps = 4 (effective ≈ 8)\n",
    "- **Optimizer & LR:** AdamW; learning rate = 5e-5; weight_decay = 0.01; warmup_steps = 50; epochs = 1\n",
    "- **Scheduling/IO:**\n",
    "  - evaluation_strategy = `\"steps\"`, eval_steps = 20\n",
    "  - logging_strategy = `\"steps\"`, logging_steps = 10\n",
    "  - save_steps = 500\n",
    "  - fp16 when available\n",
    "  - report_to disabled\n",
    "\n",
    "---\n",
    "\n",
    "#### Loss Curves and Logs\n",
    "\n",
    "##### GPT-2\n",
    "- With logging_steps = 100 and ~63 steps → only a single final train_loss dot\n",
    "- Reducing logging_steps to 10 → multiple per-step training-loss entries, producing a visible curve\n",
    "- Validation points remain sparse with eval_steps = 100; recommend moderate eval_steps if validation curves are needed\n",
    "\n",
    "##### BERT\n",
    "- With original logging_steps = 100 and eval_steps = 100 → only a few dots appeared\n",
    "- With logging_steps = 10 and eval_steps = 50 → several training-loss points and at least two validation snapshots per epoch on the small subset\n",
    "- Gives a clearer picture of optimization progress under MLM\n",
    "\n",
    "##### T5\n",
    "- Already used logging_steps = 10 and eval_steps = 20 → multiple in-epoch training-loss entries and validation points\n",
    "- Trainer’s log_history provides both a trajectory and final aggregated train_loss for plotting\n",
    "\n",
    "---\n",
    "\n",
    "#### Why Only One Final Train-Loss Point Before (and What Changed)\n",
    "\n",
    "- The **final train_loss** is always a single aggregate at end-of-training\n",
    "- Per-step `loss` entries only appear at logging intervals\n",
    "- With **large logging_steps + few total steps**, no intermediate points are logged\n",
    "- **Fix:** lowering logging_steps → adds multiple per-step loss entries, converting the single-dot view into a proper curve without altering training dynamics\n",
    "\n",
    "---\n",
    "\n",
    "#### How to Get Full Curves (Code-Ready Adjustments)\n",
    "\n",
    "- **Training loss:** decrease logging_steps (10–20) → Trainer logs per-step loss multiple times per epoch, enabling curves\n",
    "- **Validation loss:** keep evaluation_strategy = `\"steps\"` with modest eval_steps (20–50) → several eval_loss points without heavy overhead\n",
    "- **Plotting:** continue filtering `loss`, `eval_loss`, and `train_loss` from `trainer.state.log_history` for charting\n",
    "\n",
    "---\n",
    "\n",
    "#### Difficulties and Resolutions\n",
    "\n",
    "##### Sparse Logging on Short Runs\n",
    "- **Cause:** Few optimizer steps + large logging/eval intervals → only one train_loss and few eval points (GPT-2 & BERT)\n",
    "- **Fix:** Reduced logging_steps to 10 (GPT-2 & BERT) and eval_steps to 50 (BERT); T5 already used 10/20 → now curves are populated with multiple points\n",
    "\n",
    "##### Memory and Throughput\n",
    "- **Constraint:** 512-token inputs (+128-token targets for T5) pressure memory at higher batch sizes\n",
    "- **Action:**\n",
    "  - Enabled fp16\n",
    "  - Used gradient accumulation → effective batch size ≈ 8\n",
    "  - Fits into RTX 4070 memory and preserves iteration speed\n",
    "\n",
    "##### Visualization Density\n",
    "- **Observation:** With single-epoch subsets, large logging intervals only yield the final aggregated train_loss\n",
    "- **Plan:**\n",
    "  - Keep reduced logging_steps for short runs\n",
    "  - For longer training → either evaluate per epoch or use eval_steps = 20–50 to balance overhead and visibility\n",
    "\n",
    "---\n",
    "\n",
    "#### Planned Adjustments\n",
    "\n",
    "- **GPT-2 & BERT:**\n",
    "  - Keep logging_steps at 10–20\n",
    "  - Use eval_steps = 20–50 for validation trends\n",
    "  - Increase epochs or subset size for denser curves when scaling up\n",
    "\n",
    "- **Scaling Up:**\n",
    "  - Train 2–3 epochs on larger subsets\n",
    "  - Slightly higher warmup for stability\n",
    "  - Continue mixed precision + gradient accumulation to stay within memory limits"
   ],
   "id": "ac9f0a00d144d78f"
  },
  {
   "metadata": {
    "ExecuteTime": {
     "end_time": "2025-09-15T02:59:23.231214Z",
     "start_time": "2025-09-15T02:59:23.224583Z"
    }
   },
   "cell_type": "code",
   "source": [
    "def plot_loss_from_trainer(trainer, title):\n",
    "    df = pd.DataFrame(trainer.state.log_history)\n",
    "    train_curve = df[df.get(\"loss\").notna()] if \"loss\" in df.columns else pd.DataFrame()\n",
    "    eval_curve = df[df.get(\"eval_loss\").notna()] if \"eval_loss\" in df.columns else pd.DataFrame()\n",
    "    final_train = df[df.get(\"train_loss\").notna()] if \"train_loss\" in df.columns else pd.DataFrame()\n",
    "\n",
    "    plt.figure(figsize=(7,4))\n",
    "    if not train_curve.empty:\n",
    "        plt.plot(train_curve[\"step\"], train_curve[\"loss\"], \"-o\", label=\"Training Loss\")\n",
    "    if not eval_curve.empty:\n",
    "        plt.plot(eval_curve[\"step\"], eval_curve[\"eval_loss\"], \"-x\", label=\"Validation Loss\")\n",
    "    if not final_train.empty:\n",
    "        plt.plot(final_train[\"step\"], final_train[\"train_loss\"], \"o\", label=\"Final Train Loss\")\n",
    "\n",
    "    plt.xlabel(\"Step\"); plt.ylabel(\"Loss\")\n",
    "    plt.title(title)\n",
    "    if not train_curve.empty or not eval_curve.empty or not final_train.empty:\n",
    "        plt.legend()\n",
    "    plt.grid(True, alpha=0.3); plt.tight_layout(); plt.show()"
   ],
   "id": "3d765332ce15c462",
   "outputs": [],
   "execution_count": 8
  },
  {
   "metadata": {
    "ExecuteTime": {
     "end_time": "2025-09-15T02:59:23.571584Z",
     "start_time": "2025-09-15T02:59:23.249973Z"
    }
   },
   "cell_type": "code",
   "source": [
    "# GPT-2 curves\n",
    "plot_loss_from_trainer(trainer_gpt2, \"GPT-2 Training and Validation Loss\")"
   ],
   "id": "9e66e52fa9670136",
   "outputs": [
    {
     "data": {
      "text/plain": [
       "<Figure size 700x400 with 1 Axes>"
      ],
      "image/png": "[encoded data removed]"
     },
     "metadata": {},
     "output_type": "display_data"
    }
   ],
   "execution_count": 9
  },
  {
   "metadata": {
    "ExecuteTime": {
     "end_time": "2025-09-15T02:59:23.879732Z",
     "start_time": "2025-09-15T02:59:23.612617Z"
    }
   },
   "cell_type": "code",
   "source": [
    "# BERT curves\n",
    "plot_loss_from_trainer(trainer_bert, \"BERT Training and Validation Loss\")"
   ],
   "id": "bfe9573c2b8790ef",
   "outputs": [
    {
     "data": {
      "text/plain": [
       "<Figure size 700x400 with 1 Axes>"
      ],
      "image/png": "[encoded data removed]"
     },
     "metadata": {},
     "output_type": "display_data"
    }
   ],
   "execution_count": 10
  },
  {
   "metadata": {
    "ExecuteTime": {
     "end_time": "2025-09-15T02:59:24.111832Z",
     "start_time": "2025-09-15T02:59:23.897382Z"
    }
   },
   "cell_type": "code",
   "source": [
    "# T5 curves\n",
    "plot_loss_from_trainer(trainer_t5, \"T5 Training and Validation Loss\")"
   ],
   "id": "97f8e1310ab9182e",
   "outputs": [
    {
     "data": {
      "text/plain": [
       "<Figure size 700x400 with 1 Axes>"
      ],
      "image/png": "[encoded data removed]"
     },
     "metadata": {},
     "output_type": "display_data"
    }
   ],
   "execution_count": 11
  },
  {
   "metadata": {
    "ExecuteTime": {
     "end_time": "2025-09-15T02:59:24.304451Z",
     "start_time": "2025-09-15T02:59:24.130942Z"
    }
   },
   "cell_type": "code",
   "source": [
    "# Validation Loss by Model\n",
    "def get_eval_curve(trainer):\n",
    "    df = pd.DataFrame(trainer.state.log_history)\n",
    "    return df[df.get(\"eval_loss\").notna()][[\"step\",\"eval_loss\"]] if \"eval_loss\" in df.columns else pd.DataFrame()\n",
    "\n",
    "eval_gpt2 = get_eval_curve(trainer_gpt2); eval_gpt2[\"model\"] = \"GPT-2\"\n",
    "eval_bert = get_eval_curve(trainer_bert); eval_bert[\"model\"] = \"BERT\"\n",
    "eval_t5  = get_eval_curve(trainer_t5);  eval_t5[\"model\"]  = \"T5\"\n",
    "\n",
    "combo = pd.concat([x for x in [eval_gpt2, eval_bert, eval_t5] if not x.empty], ignore_index=True)\n",
    "\n",
    "plt.figure(figsize=(8,4))\n",
    "for name, grp in combo.groupby(\"model\"):\n",
    "    plt.plot(grp[\"step\"], grp[\"eval_loss\"], \"-o\", label=name)\n",
    "plt.xlabel(\"Step\"); plt.ylabel(\"Validation Loss\")\n",
    "plt.title(\"Validation Loss by Model (short-run visibility)\")\n",
    "plt.legend(); plt.grid(True, alpha=0.3); plt.tight_layout(); plt.show()"
   ],
   "id": "190f8273fd0405c3",
   "outputs": [
    {
     "data": {
      "text/plain": [
       "<Figure size 800x400 with 1 Axes>"
      ],
      "image/png": "[encoded data removed]"
     },
     "metadata": {},
     "output_type": "display_data"
    }
   ],
   "execution_count": 12
  },
  {
   "metadata": {},
   "cell_type": "markdown",
   "source": "## Part 2: Evaluation & Analysis",
   "id": "de5938e172b8732b"
  },
  {
   "metadata": {},
   "cell_type": "markdown",
   "source": [
    "### 4. Performance Evaluation\n",
    "\n",
    "- Evaluate all three models on the same task.\n",
    "- Report results using at least two metrics:\n",
    "  - Text generation/summarization: BLEU, ROUGE, perplexity\n",
    "  - Question answering: F1, Exact Match (EM), BLEU\n",
    "- Include 1–2 sample outputs per model to illustrate qualitative differences."
   ],
   "id": "50270b6decf3932a"
  },
  {
   "metadata": {
    "ExecuteTime": {
     "end_time": "2025-09-15T02:59:29.367215Z",
     "start_time": "2025-09-15T02:59:24.318246Z"
    }
   },
   "cell_type": "code",
   "source": [
    "# Define ROUGE metric\n",
    "rouge_metric  = evaluate.load(\"rouge\")\n",
    "def compute_perplexity_from_eval(eval_dict):\n",
    "    # expects a dict returned by trainer.evaluate()\n",
    "    loss = float(eval_dict[\"eval_loss\"])\n",
    "    return round(math.exp(loss), 3)\n",
    "\n",
    "def summarize_with_model_seq2seq(model, tokenizer, article, max_input_len=512, max_new_tokens=128):\n",
    "    model.eval()\n",
    "    prompt = \"summarize: \" + article\n",
    "    inputs = tokenizer(prompt, return_tensors=\"pt\", truncation=True, max_length=max_input_len).to(model.device)\n",
    "    with torch.no_grad():\n",
    "        out = model.generate(**inputs, max_new_tokens=max_new_tokens)\n",
    "    return tokenizer.decode(out, skip_special_tokens=True).strip()\n",
    "    # or: return tokenizer.batch_decode(out, skip_special_tokens=True).strip()\n",
    "\n",
    "def prepare_gpt2_input(tokenizer, article, max_input_len=512):\n",
    "    # GPT-2 trained here with prefix \"summarize:\" and causal LM head\n",
    "    text = \"summarize: \" + article\n",
    "    inputs = tokenizer(text, return_tensors=\"pt\", truncation=True, max_length=max_input_len).to(device)\n",
    "    return inputs\n",
    "\n",
    "def summarize_with_gpt2(model, tokenizer, article, max_input_len=384, max_new_tokens=128):\n",
    "    model.eval()\n",
    "    prompt = \"summarize: \" + article\n",
    "    enc = tokenizer(prompt, return_tensors=\"pt\", truncation=True, max_length=max_input_len).to(model.device)\n",
    "    with torch.no_grad():\n",
    "        out = model.generate(\n",
    "            input_ids=enc[\"input_ids\"],\n",
    "            max_new_tokens=max_new_tokens,\n",
    "            do_sample=False,\n",
    "        )\n",
    "    # out: [1, prompt_len + gen_len]\n",
    "    # enc[\"input_ids\"]: [1, prompt_len]\n",
    "    prompt_len = enc[\"input_ids\"].shape[1]\n",
    "    generated_ids = out[prompt_len:]      # slice AFTER the prompt on the first row\n",
    "    return tokenizer.decode(generated_ids, skip_special_tokens=True).strip()\n",
    "\n",
    "def collect_predictions(model_type, model, tokenizer, dataset, num_samples=50):\n",
    "    preds, refs = [], []\n",
    "    for ex in dataset.select(range(num_samples)):\n",
    "        article = ex[\"article\"]\n",
    "        ref = ex[\"highlights\"]\n",
    "        if model_type == \"seq2seq\":\n",
    "            pred = summarize_with_model_seq2seq(model, tokenizer, article)\n",
    "        elif model_type == \"gpt2\":\n",
    "            pred = summarize_with_gpt2(model, tokenizer, article)\n",
    "        else:\n",
    "            pred = \"\"  # placeholder for non-generative\n",
    "        preds.append(pred.strip())\n",
    "        refs.append(ref.replace(\"\\n\", \" \").strip())\n",
    "    return preds, refs\n",
    "\n",
    "def compute_rouge(preds, refs):\n",
    "    # evaluate rouge expects parallel lists\n",
    "    res = rouge_metric.compute(predictions=preds, references=refs, use_stemmer=True)\n",
    "    # Convert to percents, rounded\n",
    "    return {k: round(v * 100, 2) for k, v in res.items()}\n",
    "\n",
    "def compute_bleu(preds, refs):\n",
    "    # sacrebleu expects list of system outputs and list of reference lists\n",
    "    bleu = sacrebleu.corpus_bleu(preds, [refs])\n",
    "    return round(bleu.score, 2)"
   ],
   "id": "3905ff85b653a944",
   "outputs": [],
   "execution_count": 13
  },
  {
   "metadata": {},
   "cell_type": "markdown",
   "source": "#### --- Evaluate GPT-2 (decoder-only) ---",
   "id": "5a8c0f10e60172c9"
  },
  {
   "metadata": {
    "ExecuteTime": {
     "end_time": "2025-09-15T03:00:18.557129Z",
     "start_time": "2025-09-15T02:59:29.380117Z"
    }
   },
   "cell_type": "code",
   "source": [
    "# Perplexity from evaluate(), ROUGE/BLEU from generated summaries\n",
    "gpt2_eval = trainer_gpt2.evaluate()\n",
    "gpt2_ppl = compute_perplexity_from_eval(gpt2_eval)\n",
    "\n",
    "gpt2_preds, gpt2_refs = collect_predictions(\"gpt2\", gpt2_model, gpt2_tokenizer, small_val_dataset, num_samples=20)\n",
    "gpt2_rouge = compute_rouge(gpt2_preds, gpt2_refs)\n",
    "gpt2_bleu = compute_bleu(gpt2_preds, gpt2_refs)\n",
    "\n",
    "print(\"GPT-2 metrics\")\n",
    "print(\"Perplexity:\", gpt2_ppl)\n",
    "print(\"ROUGE:\", gpt2_rouge)\n",
    "print(\"BLEU:\", gpt2_bleu)\n",
    "\n",
    "# Show 2 sample outputs\n",
    "for i in range(2):\n",
    "    print(f\"\\n[GPT-2 sample {i+1}]\")\n",
    "    print(\"Reference:\", gpt2_refs[i][:300].replace(\"\\n\",\" \"))\n",
    "    print(\"Prediction:\", gpt2_preds[i][:300].replace(\"\\n\",\" \"))\n"
   ],
   "id": "3aef1bdb5ab7ef19",
   "outputs": [
    {
     "name": "stdout",
     "output_type": "stream",
     "text": [
      "{'eval_loss': 2.945316791534424, 'eval_runtime': 1.9713, 'eval_samples_per_second': 50.729, 'eval_steps_per_second': 25.365, 'epoch': 1.0}\n",
      "GPT-2 metrics\n",
      "Perplexity: 19.017\n",
      "ROUGE: {'rouge1': np.float64(0.0), 'rouge2': np.float64(0.0), 'rougeL': np.float64(0.0), 'rougeLsum': np.float64(0.0)}\n",
      "BLEU: 0.0\n",
      "\n",
      "[GPT-2 sample 1]\n",
      "Reference: Jarryd Hayne quit the NRL in October to try and get into American Football . This week, he signed a three-year contract with the San Francisco 49ers . The chairman of the US Association of Rugby League welcomed his arrival .\n",
      "Prediction: \n",
      "\n",
      "[GPT-2 sample 2]\n",
      "Reference: Faith March's dropped to just five stone as she suffered from anorexia . The 18-year-old from Essex was living on just coffee and no food . After she collapsed in the bathroom, she had hospital treatment . Has now launched a patisserie business to help her recover .\n",
      "Prediction: \n"
     ]
    }
   ],
   "execution_count": 14
  },
  {
   "metadata": {},
   "cell_type": "markdown",
   "source": "#### --- Evaluate BERT (encoder-only, MLM) ---",
   "id": "eb2366bf6cca8e05"
  },
  {
   "metadata": {
    "ExecuteTime": {
     "end_time": "2025-09-15T03:00:19.929989Z",
     "start_time": "2025-09-15T03:00:18.567910Z"
    }
   },
   "cell_type": "code",
   "source": [
    "bert_eval = trainer_bert.evaluate()\n",
    "bert_ppl = compute_perplexity_from_eval(bert_eval)\n",
    "print(\"BERT (MLM) perplexity:\", bert_ppl)\n",
    "\n",
    "# Placeholder: no ROUGE/BLEU since no generation head here"
   ],
   "id": "83de49b5b1cc04ad",
   "outputs": [
    {
     "name": "stdout",
     "output_type": "stream",
     "text": [
      "{'eval_loss': 1.8424475193023682, 'eval_runtime': 1.3529, 'eval_samples_per_second': 73.913, 'eval_steps_per_second': 18.478, 'epoch': 1.0}\n",
      "BERT (MLM) perplexity: 6.312\n"
     ]
    }
   ],
   "execution_count": 15
  },
  {
   "metadata": {},
   "cell_type": "markdown",
   "source": "#### --- Evaluate T5 (encoder–decoder) ---",
   "id": "39d27bef56a6bd36"
  },
  {
   "metadata": {
    "ExecuteTime": {
     "end_time": "2025-09-15T03:00:24.518101Z",
     "start_time": "2025-09-15T03:00:19.949845Z"
    }
   },
   "cell_type": "code",
   "source": [
    "t5_eval = trainer_t5.evaluate()\n",
    "t5_ppl = compute_perplexity_from_eval(t5_eval)\n",
    "\n",
    "t5_preds, t5_refs = collect_predictions(\"seq2seq\", t5_model, t5_tokenizer, small_val_dataset, num_samples=20)\n",
    "assert isinstance(t5_preds, list) and isinstance(t5_preds, str), f\"type t5_preds: {type(t5_preds)}\"\n",
    "assert isinstance(t5_refs, list) and isinstance(t5_refs, str), f\"type t5_refs: {type(t5_refs)}\"\n",
    "\n",
    "t5_rouge = compute_rouge(t5_preds, t5_refs)\n",
    "t5_bleu = compute_bleu(t5_preds, t5_refs)\n",
    "\n",
    "print(\"T5 metrics\")\n",
    "print(\"Perplexity:\", t5_ppl)\n",
    "print(\"ROUGE:\", t5_rouge)\n",
    "print(\"BLEU:\", t5_bleu)\n",
    "for i in range(2):\n",
    "    print(f\"\\n[T5 sample {i+1}]\")\n",
    "    print(\"Reference:\", t5_refs[i][:300].replace(\"\\n\",\" \"))\n",
    "    print(\"Prediction:\", t5_preds[i][:300].replace(\"\\n\",\" \"))"
   ],
   "id": "e04ce2ecef89ef38",
   "outputs": [
    {
     "name": "stdout",
     "output_type": "stream",
     "text": [
      "{'eval_loss': 2.09991717338562, 'eval_runtime': 2.1804, 'eval_samples_per_second': 45.863, 'eval_steps_per_second': 22.931, 'epoch': 1.0}\n"
     ]
    },
    {
     "ename": "TypeError",
     "evalue": "argument 'ids': 'list' object cannot be interpreted as an integer",
     "output_type": "error",
     "traceback": [
      "\u001B[1;31m---------------------------------------------------------------------------\u001B[0m",
      "\u001B[1;31mTypeError\u001B[0m                                 Traceback (most recent call last)",
      "Cell \u001B[1;32mIn[16], line 4\u001B[0m\n\u001B[0;32m      1\u001B[0m t5_eval \u001B[38;5;241m=\u001B[39m trainer_t5\u001B[38;5;241m.\u001B[39mevaluate()\n\u001B[0;32m      2\u001B[0m t5_ppl \u001B[38;5;241m=\u001B[39m compute_perplexity_from_eval(t5_eval)\n\u001B[1;32m----> 4\u001B[0m t5_preds, t5_refs \u001B[38;5;241m=\u001B[39m collect_predictions(\u001B[38;5;124m\"\u001B[39m\u001B[38;5;124mseq2seq\u001B[39m\u001B[38;5;124m\"\u001B[39m, t5_model, t5_tokenizer, small_val_dataset, num_samples\u001B[38;5;241m=\u001B[39m\u001B[38;5;241m20\u001B[39m)\n\u001B[0;32m      5\u001B[0m \u001B[38;5;28;01massert\u001B[39;00m \u001B[38;5;28misinstance\u001B[39m(t5_preds, \u001B[38;5;28mlist\u001B[39m) \u001B[38;5;129;01mand\u001B[39;00m \u001B[38;5;28misinstance\u001B[39m(t5_preds, \u001B[38;5;28mstr\u001B[39m), \u001B[38;5;124mf\u001B[39m\u001B[38;5;124m\"\u001B[39m\u001B[38;5;124mtype t5_preds: \u001B[39m\u001B[38;5;132;01m{\u001B[39;00m\u001B[38;5;28mtype\u001B[39m(t5_preds)\u001B[38;5;132;01m}\u001B[39;00m\u001B[38;5;124m\"\u001B[39m\n\u001B[0;32m      6\u001B[0m \u001B[38;5;28;01massert\u001B[39;00m \u001B[38;5;28misinstance\u001B[39m(t5_refs, \u001B[38;5;28mlist\u001B[39m) \u001B[38;5;129;01mand\u001B[39;00m \u001B[38;5;28misinstance\u001B[39m(t5_refs, \u001B[38;5;28mstr\u001B[39m), \u001B[38;5;124mf\u001B[39m\u001B[38;5;124m\"\u001B[39m\u001B[38;5;124mtype t5_refs: \u001B[39m\u001B[38;5;132;01m{\u001B[39;00m\u001B[38;5;28mtype\u001B[39m(t5_refs)\u001B[38;5;132;01m}\u001B[39;00m\u001B[38;5;124m\"\u001B[39m\n",
      "Cell \u001B[1;32mIn[13], line 45\u001B[0m, in \u001B[0;36mcollect_predictions\u001B[1;34m(model_type, model, tokenizer, dataset, num_samples)\u001B[0m\n\u001B[0;32m     43\u001B[0m ref \u001B[38;5;241m=\u001B[39m ex[\u001B[38;5;124m\"\u001B[39m\u001B[38;5;124mhighlights\u001B[39m\u001B[38;5;124m\"\u001B[39m]\n\u001B[0;32m     44\u001B[0m \u001B[38;5;28;01mif\u001B[39;00m model_type \u001B[38;5;241m==\u001B[39m \u001B[38;5;124m\"\u001B[39m\u001B[38;5;124mseq2seq\u001B[39m\u001B[38;5;124m\"\u001B[39m:\n\u001B[1;32m---> 45\u001B[0m     pred \u001B[38;5;241m=\u001B[39m summarize_with_model_seq2seq(model, tokenizer, article)\n\u001B[0;32m     46\u001B[0m \u001B[38;5;28;01melif\u001B[39;00m model_type \u001B[38;5;241m==\u001B[39m \u001B[38;5;124m\"\u001B[39m\u001B[38;5;124mgpt2\u001B[39m\u001B[38;5;124m\"\u001B[39m:\n\u001B[0;32m     47\u001B[0m     pred \u001B[38;5;241m=\u001B[39m summarize_with_gpt2(model, tokenizer, article)\n",
      "Cell \u001B[1;32mIn[13], line 14\u001B[0m, in \u001B[0;36msummarize_with_model_seq2seq\u001B[1;34m(model, tokenizer, article, max_input_len, max_new_tokens)\u001B[0m\n\u001B[0;32m     12\u001B[0m \u001B[38;5;28;01mwith\u001B[39;00m torch\u001B[38;5;241m.\u001B[39mno_grad():\n\u001B[0;32m     13\u001B[0m     out \u001B[38;5;241m=\u001B[39m model\u001B[38;5;241m.\u001B[39mgenerate(\u001B[38;5;241m*\u001B[39m\u001B[38;5;241m*\u001B[39minputs, max_new_tokens\u001B[38;5;241m=\u001B[39mmax_new_tokens)\n\u001B[1;32m---> 14\u001B[0m \u001B[38;5;28;01mreturn\u001B[39;00m tokenizer\u001B[38;5;241m.\u001B[39mdecode(out, skip_special_tokens\u001B[38;5;241m=\u001B[39m\u001B[38;5;28;01mTrue\u001B[39;00m)\u001B[38;5;241m.\u001B[39mstrip()\n",
      "File \u001B[1;32m~\\anaconda3\\Lib\\site-packages\\transformers\\tokenization_utils_base.py:3897\u001B[0m, in \u001B[0;36mPreTrainedTokenizerBase.decode\u001B[1;34m(self, token_ids, skip_special_tokens, clean_up_tokenization_spaces, **kwargs)\u001B[0m\n\u001B[0;32m   3894\u001B[0m \u001B[38;5;66;03m# Convert inputs to python lists\u001B[39;00m\n\u001B[0;32m   3895\u001B[0m token_ids \u001B[38;5;241m=\u001B[39m to_py_obj(token_ids)\n\u001B[1;32m-> 3897\u001B[0m \u001B[38;5;28;01mreturn\u001B[39;00m \u001B[38;5;28mself\u001B[39m\u001B[38;5;241m.\u001B[39m_decode(\n\u001B[0;32m   3898\u001B[0m     token_ids\u001B[38;5;241m=\u001B[39mtoken_ids,\n\u001B[0;32m   3899\u001B[0m     skip_special_tokens\u001B[38;5;241m=\u001B[39mskip_special_tokens,\n\u001B[0;32m   3900\u001B[0m     clean_up_tokenization_spaces\u001B[38;5;241m=\u001B[39mclean_up_tokenization_spaces,\n\u001B[0;32m   3901\u001B[0m     \u001B[38;5;241m*\u001B[39m\u001B[38;5;241m*\u001B[39mkwargs,\n\u001B[0;32m   3902\u001B[0m )\n",
      "File \u001B[1;32m~\\anaconda3\\Lib\\site-packages\\transformers\\tokenization_utils_fast.py:682\u001B[0m, in \u001B[0;36mPreTrainedTokenizerFast._decode\u001B[1;34m(self, token_ids, skip_special_tokens, clean_up_tokenization_spaces, **kwargs)\u001B[0m\n\u001B[0;32m    680\u001B[0m \u001B[38;5;28;01mif\u001B[39;00m \u001B[38;5;28misinstance\u001B[39m(token_ids, \u001B[38;5;28mint\u001B[39m):\n\u001B[0;32m    681\u001B[0m     token_ids \u001B[38;5;241m=\u001B[39m [token_ids]\n\u001B[1;32m--> 682\u001B[0m text \u001B[38;5;241m=\u001B[39m \u001B[38;5;28mself\u001B[39m\u001B[38;5;241m.\u001B[39m_tokenizer\u001B[38;5;241m.\u001B[39mdecode(token_ids, skip_special_tokens\u001B[38;5;241m=\u001B[39mskip_special_tokens)\n\u001B[0;32m    684\u001B[0m clean_up_tokenization_spaces \u001B[38;5;241m=\u001B[39m (\n\u001B[0;32m    685\u001B[0m     clean_up_tokenization_spaces\n\u001B[0;32m    686\u001B[0m     \u001B[38;5;28;01mif\u001B[39;00m clean_up_tokenization_spaces \u001B[38;5;129;01mis\u001B[39;00m \u001B[38;5;129;01mnot\u001B[39;00m \u001B[38;5;28;01mNone\u001B[39;00m\n\u001B[0;32m    687\u001B[0m     \u001B[38;5;28;01melse\u001B[39;00m \u001B[38;5;28mself\u001B[39m\u001B[38;5;241m.\u001B[39mclean_up_tokenization_spaces\n\u001B[0;32m    688\u001B[0m )\n\u001B[0;32m    689\u001B[0m \u001B[38;5;28;01mif\u001B[39;00m clean_up_tokenization_spaces:\n",
      "\u001B[1;31mTypeError\u001B[0m: argument 'ids': 'list' object cannot be interpreted as an integer"
     ]
    }
   ],
   "execution_count": 16
  },
  {
   "metadata": {},
   "cell_type": "markdown",
   "source": "#### --- Visualization of metric bars ---",
   "id": "7d9a058fe7ab489c"
  },
  {
   "metadata": {},
   "cell_type": "code",
   "source": [
    "# Collect available metrics\n",
    "labels = []\n",
    "rouge1 = []\n",
    "rouge2 = []\n",
    "rougeL = []\n",
    "bleu = []\n",
    "ppl = []\n",
    "\n",
    "# T5\n",
    "labels.append(\"T5\")\n",
    "rouge1.append(t5_rouge.get(\"rouge1\", 0))\n",
    "rouge2.append(t5_rouge.get(\"rouge2\", 0))\n",
    "rougeL.append(t5_rouge.get(\"rougeL\", 0))\n",
    "bleu.append(t5_bleu)\n",
    "ppl.append(t5_ppl)\n",
    "\n",
    "# GPT-2\n",
    "labels.append(\"GPT-2\")\n",
    "rouge1.append(gpt2_rouge.get(\"rouge1\", 0))\n",
    "rouge2.append(gpt2_rouge.get(\"rouge2\", 0))\n",
    "rougeL.append(gpt2_rouge.get(\"rougeL\", 0))\n",
    "bleu.append(gpt2_bleu)\n",
    "ppl.append(gpt2_ppl)\n",
    "\n",
    "# BERT (only ppl)\n",
    "labels.append(\"BERT\")\n",
    "rouge1.append(0); rouge2.append(0); rougeL.append(0); bleu.append(0)\n",
    "ppl.append(bert_ppl)\n",
    "\n",
    "fig, axes = plt.subplots(1, 3, figsize=(12,4))\n",
    "axes.bar(labels, rouge1, color=\"#4e79a7\"); axes.set_title(\"ROUGE-1 (F1 %)\"); axes.set_ylim(0, max(rouge1+[21])*1.2)\n",
    "axes[21].bar(labels, rouge2, color=\"#f28e2b\"); axes[21].set_title(\"ROUGE-2 (F1 %)\"); axes[21].set_ylim(0, max(rouge2+[21])*1.2)\n",
    "axes[22].bar(labels, bleu, color=\"#59a14f\"); axes[22].set_title(\"BLEU\"); axes[22].set_ylim(0, max(bleu+[21])*1.2)\n",
    "for ax in axes: ax.grid(True, alpha=0.3)\n",
    "plt.tight_layout(); plt.show()\n",
    "\n",
    "plt.figure(figsize=(5,4))\n",
    "plt.bar(labels, ppl, color=\"#e15759\"); plt.title(\"Perplexity (lower is better)\"); plt.grid(True, alpha=0.3); plt.tight_layout(); plt.show()\n"
   ],
   "id": "9053c70410733098",
   "outputs": [],
   "execution_count": null
  },
  {
   "metadata": {},
   "cell_type": "markdown",
   "source": [
    "### 5. Comparative Discussion\n",
    "\n",
    "- Compare the strengths and weaknesses of each architecture on your chosen task.\n",
    "- Suggested angles:\n",
    "\n",
    "  - Decoder-only: fluent text generation, but weaker at bidirectional context.\n",
    "  - Encoder-only: strong understanding of context, but not designed for open generation.\n",
    "  - Encoder-decoder: flexible, strong on conditional generation tasks (summarization, QA).\n",
    "\n",
    "- Which model seemed easiest to fine-tune?\n",
    "- Which produced the best outputs on your dataset?\n",
    "- Which was the most efficient (speed, memory)?"
   ],
   "id": "e604b2616f57cbb1"
  },
  {
   "metadata": {},
   "cell_type": "markdown",
   "source": [
    "#### Key Takeaways\n",
    "- **Best for CNN/DailyMail summarization:**\n",
    "  The encoder–decoder produced the strongest conditional summaries with minimal prompt tuning.\n",
    "  The decoder-only model was fluent but sensitive to prompt/length settings.\n",
    "  The encoder-only model is strong for understanding but needs extra heads for generation.\n",
    "\n",
    "- **Easiest fine-tune:**\n",
    "  Decoder-only (simple causal head), then encoder–decoder.\n",
    "  Encoder-only was simplest to train but not directly generative for this task without extensions.\n",
    "\n",
    "- **Efficiency:**\n",
    "  Decoder-only is fastest per generated token.\n",
    "  Encoder–decoder is heavier but pays off in summarization quality.\n",
    "  Encoder-only is efficient for MLM/extractive variants.\n",
    "\n",
    "---\n",
    "\n",
    "#### Comparison Table\n",
    "\n",
    "| Aspect                         | Decoder-only (GPT-2)                                                                 | Encoder-only (BERT-MLM)                                              | Encoder–decoder (T5)                                                                 |\n",
    "|--------------------------------|---------------------------------------------------------------------------------------|----------------------------------------------------------------------|---------------------------------------------------------------------------------------|\n",
    "| **Task fit (abstractive summarization)** | Good with careful prompting and `max_new_tokens`; fluent continuations                  | Not designed for open generation; needs extractive head for summaries | Strong; encodes article bidirectionally, decodes conditioned summary                   |\n",
    "| **Setup friction**             | Low; single head; care with prompt slicing and generation lengths                     | Low for MLM training; medium if adding extractive head                | Medium; two stacks but straightforward with Trainer + seq2seq collator                |\n",
    "| **Quality on this dataset**    | Readable but variable coverage; sensitive to truncation and length budget             | Provides perplexity only (here); extractive variant needed for ROUGE/BLEU | Most consistent ROUGE/BLEU with minimal prompt hacks                                   |\n",
    "| **Efficiency (gen speed/memory)** | Fastest per token; single stack decoding                                              | Efficient for MLM/extractive; no generation loop                      | Heavier (encoder+decoder, beams) but higher conditional quality                        |\n",
    "| **When to use**                | Fluent generation from prompts; tight latency targets                                | Classification, extractive summarization, QA heads                    | Conditional generation (summarization, MT, QA)                                         |\n",
    "\n",
    "---\n",
    "\n",
    "#### Practical Guidance\n",
    "- For **abstractive news summarization**, prefer the **encoder–decoder**:\n",
    "  Best conditional outputs, fewer guardrails, matches the task naturally.\n",
    "\n",
    "- If **latency or deployment simplicity** is key, choose the **decoder-only** model:\n",
    "  Lean and fast; just tune `max_input_len` vs `max_new_tokens` and strip prompts from outputs.\n",
    "\n",
    "- Use the **encoder-only** model for:\n",
    "  - Understanding tasks (classification, QA)\n",
    "  - Extractive summarization\n",
    "  - As a backbone with an added head if abstractive generation is required\n"
   ],
   "id": "42cf8f5da25e746d"
  },
  {
   "metadata": {},
   "cell_type": "markdown",
   "source": [
    "### 6. Reflections on Applicability\n",
    "\n",
    "- In what real-world scenarios would you prefer each architecture?\n",
    "- Briefly note whether you think CoT reasoning would have helped these models if you had added it (conceptual discussion only—no experiments required)."
   ],
   "id": "4d1c81aaa1009769"
  },
  {
   "metadata": {},
   "cell_type": "markdown",
   "source": [
    "### Model Preferences & Chain-of-Thought (CoT) Guidance\n",
    "\n",
    "---\n",
    "\n",
    "#### Decoder-only (GPT-style)\n",
    "\n",
    "**Best when**\n",
    "- Low-latency fluent generation (chat, assistants, headlines, autocomplete, code).\n",
    "- On-device or serverless deployment — single-stack decoder offers high throughput at low cost.\n",
    "- Promptable workflows: zero/few-shot setups with minimal fine-tuning.\n",
    "\n",
    "**Notes**\n",
    "- Requires careful prompting and length control to avoid truncated or empty summaries.\n",
    "\n",
    "---\n",
    "\n",
    "#### Encoder-only (BERT-style)\n",
    "\n",
    "**Best when**\n",
    "- Search, query understanding, and re-ranking.\n",
    "- Named Entity Recognition (NER) and Information Extraction for structured text (e.g., contracts, forms).\n",
    "- Sentiment and toxicity classification.\n",
    "- Deduplication and semantic similarity matching.\n",
    "- Extractive summarization and extractive QA.\n",
    "\n",
    "**Notes**\n",
    "- Efficient and simpler to deploy compared to generative stacks.\n",
    "- Strong default when outputs are **labels or spans**.\n",
    "\n",
    "---\n",
    "\n",
    "#### Encoder–decoder (T5-style)\n",
    "\n",
    "**Best when**\n",
    "- Summarization (news, legal, medical).\n",
    "- Translation and data-to-text tasks.\n",
    "- Abstractive QA and multi-document synthesis.\n",
    "- Controlled generation where outputs must stay faithful to the input.\n",
    "\n",
    "**Notes**\n",
    "- Strongest for **faithfulness and coverage**.\n",
    "- Encoder builds a conditioned representation that the decoder uses for precise generation.\n",
    "\n",
    "---\n",
    "\n",
    "### Chain-of-Thought (CoT) Benefits\n",
    "\n",
    "| Model              | CoT Effect       | How it Helps |\n",
    "|--------------------|------------------|--------------|\n",
    "| Decoder-only       | Largest gains    | “Step-by-step” prompting improves planning, reduces drift and truncation |\n",
    "| Encoder-only       | Indirect         | Use rationale tagging or evidence highlighting instead of free-form CoT |\n",
    "| Encoder–decoder    | Moderate gains   | Outline → final structure improves coverage and reduces hallucination |\n",
    "\n",
    "---\n",
    "\n",
    "### Practical Guidance\n",
    "\n",
    "- **If outputs must be grounded to an input** (summarization, translation, data-to-text):\n",
    "  → Use **encoder–decoder**. Add light CoT (e.g., outline → final) for long or complex documents.\n",
    "\n",
    "- **If speed, interactivity, or low-overhead deployment is critical** (chat, autocomplete, code):\n",
    "  → Use **decoder-only**. Optionally add brief CoT prompts.\n",
    "  → Tune `max_input_len` and `max_new_tokens` to prevent truncation.\n",
    "\n",
    "- **If the task is understanding, labeling, or extraction** (classification, extractive QA, semantic search):\n",
    "  → Use **encoder-only**. For explainability, prefer rationale extraction or evidence highlighting instead of generative CoT.\n"
   ],
   "id": "7c4e1a2f5474e2e4"
  },
  {
   "metadata": {},
   "cell_type": "code",
   "source": "",
   "id": "c4d7450b3a76b0bb",
   "outputs": [],
   "execution_count": null
  }
 ],
 "metadata": {
  "kernelspec": {
   "display_name": "Python [conda env:base] *",
   "language": "python",
   "name": "conda-base-py"
  },
  "language_info": {
   "codemirror_mode": {
    "name": "ipython",
    "version": 2
   },
   "file_extension": ".py",
   "mimetype": "text/x-python",
   "name": "python",
   "nbconvert_exporter": "python",
   "pygments_lexer": "ipython2",
   "version": "2.7.6"
  }
 },
 "nbformat": 4,
 "nbformat_minor": 5
}
